{
  "nbformat": 4,
  "nbformat_minor": 0,
  "metadata": {
    "colab": {
      "name": "Iris_Classification.ipynb",
      "provenance": [],
      "collapsed_sections": []
    },
    "kernelspec": {
      "name": "python3",
      "display_name": "Python 3"
    }
  },
  "cells": [
    {
      "cell_type": "markdown",
      "metadata": {
        "id": "87vM5mBYPQA1",
        "colab_type": "text"
      },
      "source": [
        "**Iris Classification**"
      ]
    },
    {
      "cell_type": "code",
      "metadata": {
        "id": "BqpAeB4QPZ3J",
        "colab_type": "code",
        "colab": {}
      },
      "source": [
        "from sklearn import datasets\n",
        "import matplotlib.pyplot as plt\n",
        "import math"
      ],
      "execution_count": 0,
      "outputs": []
    },
    {
      "cell_type": "code",
      "metadata": {
        "id": "ihQCS84DP2Y-",
        "colab_type": "code",
        "colab": {}
      },
      "source": [
        "iris=datasets.load_iris()"
      ],
      "execution_count": 0,
      "outputs": []
    },
    {
      "cell_type": "code",
      "metadata": {
        "id": "Dg6lO0fxP_TF",
        "colab_type": "code",
        "colab": {}
      },
      "source": [
        "print(iris.DESCR)"
      ],
      "execution_count": 0,
      "outputs": []
    },
    {
      "cell_type": "markdown",
      "metadata": {
        "id": "4PHo1FrHQbCC",
        "colab_type": "text"
      },
      "source": [
        "        - sepal length in cm\n",
        "        - sepal width in cm\n",
        "        - petal length in cm\n",
        "        - petal width in cm"
      ]
    },
    {
      "cell_type": "code",
      "metadata": {
        "id": "3SJK5eI_QBoA",
        "colab_type": "code",
        "colab": {}
      },
      "source": [
        "setosa=iris.data[:50]\n",
        "print(setosa[:,1:2])"
      ],
      "execution_count": 0,
      "outputs": []
    },
    {
      "cell_type": "code",
      "metadata": {
        "id": "7HGeKmZaQhph",
        "colab_type": "code",
        "colab": {}
      },
      "source": [
        "iris.target_names"
      ],
      "execution_count": 0,
      "outputs": []
    },
    {
      "cell_type": "code",
      "metadata": {
        "id": "G9CGxevNQv79",
        "colab_type": "code",
        "colab": {}
      },
      "source": [
        "versicolor=iris.data[50:100]"
      ],
      "execution_count": 0,
      "outputs": []
    },
    {
      "cell_type": "code",
      "metadata": {
        "id": "r2QrnG2uQ1IR",
        "colab_type": "code",
        "colab": {}
      },
      "source": [
        "virginica=iris.data[100:150]"
      ],
      "execution_count": 0,
      "outputs": []
    },
    {
      "cell_type": "code",
      "metadata": {
        "id": "kTyGQ5i0Q5Zx",
        "colab_type": "code",
        "colab": {}
      },
      "source": [
        "\n",
        "plt.xlabel(\"sepal length\")\n",
        "plt.ylabel(\"sepal width\")  \n",
        "plt.scatter(setosa[:,1:2],setosa[:,:1])\n",
        "\n",
        "plt.show()"
      ],
      "execution_count": 0,
      "outputs": []
    },
    {
      "cell_type": "code",
      "metadata": {
        "id": "EX_Cuk11dcWN",
        "colab_type": "code",
        "colab": {}
      },
      "source": [
        "\n",
        "plt.xlabel(\"petal length\")\n",
        "plt.ylabel(\"petal width\")  \n",
        "plt.scatter(setosa[:,2:3],setosa[:,3:4])\n",
        "\n",
        "plt.show()"
      ],
      "execution_count": 0,
      "outputs": []
    },
    {
      "cell_type": "code",
      "metadata": {
        "id": "zexKy0oKfdgr",
        "colab_type": "code",
        "colab": {}
      },
      "source": [
        "\n",
        "plt.xlabel(\"sepla width\")\n",
        "plt.ylabel(\"sepal length \")  \n",
        "plt.scatter(setosa[:,1:2],setosa[:,:1],label='setosa')\n",
        "plt.scatter(versicolor[:,1:2],versicolor[:,:1],label='versicolor')\n",
        "plt.scatter(virginica[:,1:2],virginica[:,:1],label='varginica')\n",
        "plt.legend()\n",
        "plt.show()"
      ],
      "execution_count": 0,
      "outputs": []
    },
    {
      "cell_type": "code",
      "metadata": {
        "id": "3zKIP3spgKLN",
        "colab_type": "code",
        "colab": {}
      },
      "source": [
        "plt.xlabel(\"petal width\")\n",
        "plt.ylabel(\"petal length \")  \n",
        "plt.scatter(setosa[:,3:4],setosa[:,2:3],label='setosa')\n",
        "plt.scatter(versicolor[:,3:4],versicolor[:,2:3],label='versicolor')\n",
        "plt.scatter(virginica[:,3:4],virginica[:,2:3],label='varginica')\n",
        "plt.legend()\n",
        "plt.show()"
      ],
      "execution_count": 0,
      "outputs": []
    },
    {
      "cell_type": "markdown",
      "metadata": {
        "id": "_sq9jKlbkOOS",
        "colab_type": "text"
      },
      "source": [
        "**Model**\n",
        "**y=w*x+b**"
      ]
    },
    {
      "cell_type": "markdown",
      "metadata": {
        "id": "SassvypOlX3f",
        "colab_type": "text"
      },
      "source": [
        "# **Sigmoid** **S(x)=1/1+e^-x**\n"
      ]
    },
    {
      "cell_type": "code",
      "metadata": {
        "id": "0CsVHjKOgjtk",
        "colab_type": "code",
        "colab": {}
      },
      "source": [
        "def sigmoid(x):\n",
        "  return 1.0/(1+math.e**(-x))\n",
        "\n",
        "  "
      ],
      "execution_count": 0,
      "outputs": []
    },
    {
      "cell_type": "code",
      "metadata": {
        "id": "b3JnYXwvmq75",
        "colab_type": "code",
        "colab": {}
      },
      "source": [
        "def predict(sample):\n",
        "  result=0.0\n",
        "  for i in range(len(sample)):\n",
        "    result= result + sample[i]*weights[i]\n",
        "  result= result + bias\n",
        "  return sigmoid(result)  "
      ],
      "execution_count": 0,
      "outputs": []
    },
    {
      "cell_type": "markdown",
      "metadata": {
        "id": "K_wn9hFGnjTY",
        "colab_type": "text"
      },
      "source": [
        "**Loss** **Function**\n",
        "$$\\mathcal L(y, \\hat y) = -(y \\log \\hat y + (1-y) \\log (1 - \\hat y))$$"
      ]
    },
    {
      "cell_type": "code",
      "metadata": {
        "id": "lieXjaIGnEqb",
        "colab_type": "code",
        "colab": {}
      },
      "source": [
        "def loss(y, y_hat):\n",
        "  return -(y * math.log(y_hat) + (1.0 - y) * math.log(1 - y_hat))"
      ],
      "execution_count": 0,
      "outputs": []
    },
    {
      "cell_type": "code",
      "metadata": {
        "id": "JtMcZ3SgoV_9",
        "colab_type": "code",
        "colab": {}
      },
      "source": [
        "num_features = iris.data.shape[1]\n",
        "\n",
        "def train_one_epoch(x_train_samples, y_train_samples):\n",
        "  cost = 0.0\n",
        "  dw = [0.0] * num_features\n",
        "  db = 0.0\n",
        "\n",
        "  global bias, weights\n",
        "\n",
        "  m = len(x_train_samples)\n",
        "  for i in range(m):\n",
        "    x_sample = x_train_samples[i]\n",
        "    y_sample = y_train_samples[i]\n",
        "    predicted = predict(x_sample)\n",
        "    cost = cost + loss(y_sample, predicted)\n",
        "    \n",
        "    # dz is the derivative of the loss function\n",
        "    dz = predicted - y_sample\n",
        "    \n",
        "    for j in range(len(weights)):\n",
        "      dw[j] = dw[j] + x_sample[j] * dz\n",
        "    db = db + dz\n",
        "  \n",
        "  cost = cost / m\n",
        "  db = db / m\n",
        "  bias = bias - learning_rate*db\n",
        "  for j in range(len(weights)):\n",
        "    dw[j] = dw[j] / m\n",
        "    weights[j] = weights[j] - learning_rate*dw[j]\n",
        "  \n",
        "  return cost"
      ],
      "execution_count": 0,
      "outputs": []
    },
    {
      "cell_type": "code",
      "metadata": {
        "id": "SO6gOLfevX-J",
        "colab_type": "code",
        "colab": {}
      },
      "source": [
        "\n",
        "# Model will \"learn\" values for the weights and biases\n",
        "\n",
        "weights = [0.0] * num_features\n",
        "bias = 0.0\n",
        "\n",
        "learning_rate = 0.1\n",
        "\n",
        "epochs = 2000\n",
        "\n",
        "x_train_samples = iris.data\n",
        "y_train_samples = [1 if y == 0 else 0 for y in iris.target]\n",
        "\n",
        "loss_array = []\n",
        "for epoch in range(epochs):\n",
        "  loss_value = train_one_epoch(x_train_samples, y_train_samples)\n",
        "  loss_array.append(loss_value)\n",
        "\n",
        "plt.plot(range(epochs), loss_array)\n",
        "plt.ylabel('Loss')\n",
        "plt.xlabel('Epoch')\n",
        "plt.title('Loss vs. Epoch')\n",
        "plt.show()"
      ],
      "execution_count": 0,
      "outputs": []
    },
    {
      "cell_type": "code",
      "metadata": {
        "id": "Eu50EWpRvZhl",
        "colab_type": "code",
        "colab": {}
      },
      "source": [
        "predictions = []\n",
        "\n",
        "m = len(x_train_samples)\n",
        "correct = 0\n",
        "for i in range(m):\n",
        "  sample = x_train_samples[i]\n",
        "  value = predict(sample)\n",
        "  predictions.append(value)\n",
        "  if value >= 0.5:\n",
        "    value = 1\n",
        "  else:\n",
        "    value = 0\n",
        "  if value == y_train_samples[i]:\n",
        "    correct = correct + 1.0\n",
        "\n",
        "plt.plot(range(m), predictions, label='Predicted')\n",
        "plt.plot(range(m), y_train_samples, label='Ground truth')\n",
        "plt.ylabel('Prediction')\n",
        "plt.xlabel('Sample')\n",
        "plt.legend(loc='best')\n",
        "plt.show()\n",
        "\n",
        "print('Accuracy: %.2f %%' % (100 * correct/m))"
      ],
      "execution_count": 0,
      "outputs": []
    },
    {
      "cell_type": "code",
      "metadata": {
        "id": "LxVMfKC5viZl",
        "colab_type": "code",
        "colab": {}
      },
      "source": [
        "  sample=iris.data[51]\n",
        "  value = predict(sample)\n",
        "  predictions.append(value)\n",
        "  if value >= 0.5:\n",
        "    print(\"matched\")\n",
        "  else:\n",
        "    print(\"not matched\")\n",
        "  "
      ],
      "execution_count": 0,
      "outputs": []
    },
    {
      "cell_type": "code",
      "metadata": {
        "id": "yJ9byp7Vxsbr",
        "colab_type": "code",
        "colab": {}
      },
      "source": [
        "matched=0\n",
        "not_matched=0\n",
        "for i in range(len(iris.data)):\n",
        "  value = predict(iris.data[i])\n",
        "  predictions.append(value)\n",
        "  if value >= 0.5:\n",
        "    matched=matched+1\n",
        "    #print(\"matched\")\n",
        "  else:\n",
        "    not_matched=not_matched+1\n",
        "    #print(\"not matched\")\n",
        "\n",
        "\n",
        "print(\"matched {}\".format(matched))   \n",
        "print(\"not matched {}\".format(not_matched))   "
      ],
      "execution_count": 0,
      "outputs": []
    },
    {
      "cell_type": "code",
      "metadata": {
        "id": "B_H5UAPrym7n",
        "colab_type": "code",
        "colab": {}
      },
      "source": [
        ""
      ],
      "execution_count": 0,
      "outputs": []
    }
  ]
}